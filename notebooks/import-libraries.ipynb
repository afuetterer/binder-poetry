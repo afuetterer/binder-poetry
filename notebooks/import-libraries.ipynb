{
 "cells": [
  {
   "cell_type": "code",
   "execution_count": 13,
   "id": "49dde73a-b119-4248-929a-fd7ffcf0a4f3",
   "metadata": {},
   "outputs": [],
   "source": [
    "import pandas\n",
    "import requests"
   ]
  },
  {
   "cell_type": "code",
   "execution_count": 14,
   "id": "4d26b32f-5d24-4c6e-8ae0-c69868d76f53",
   "metadata": {},
   "outputs": [
    {
     "data": {
      "text/html": [
       "<details>\n",
       "<summary>Click to view session information</summary>\n",
       "<pre>\n",
       "-----\n",
       "HanTa               NA\n",
       "nltk                3.6.7\n",
       "pandas              1.3.5\n",
       "requests            2.27.1\n",
       "seaborn             0.11.2\n",
       "session_info        1.0.0\n",
       "stylecloud          NA\n",
       "-----\n",
       "</pre>\n",
       "<details>\n",
       "<summary>Click to view modules imported as dependencies</summary>\n",
       "<pre>\n",
       "PIL                         9.0.0\n",
       "asttokens                   NA\n",
       "backcall                    0.2.0\n",
       "beta_ufunc                  NA\n",
       "binom_ufunc                 NA\n",
       "certifi                     2021.10.08\n",
       "cffi                        1.15.0\n",
       "charset_normalizer          2.0.10\n",
       "cycler                      0.10.0\n",
       "cython_runtime              NA\n",
       "dateutil                    2.8.2\n",
       "debugpy                     1.5.1\n",
       "decorator                   5.1.1\n",
       "defusedxml                  0.7.1\n",
       "entrypoints                 0.3\n",
       "executing                   0.8.2\n",
       "fire                        0.4.0\n",
       "icon_font_to_png            0.4.1\n",
       "idna                        3.3\n",
       "ipykernel                   6.7.0\n",
       "ipython_genutils            0.2.0\n",
       "jedi                        0.18.1\n",
       "jupyter_server              1.13.3\n",
       "kiwisolver                  1.3.2\n",
       "matplotlib                  3.5.1\n",
       "matplotlib_inline           NA\n",
       "mpl_toolkits                NA\n",
       "nbinom_ufunc                NA\n",
       "numpy                       1.22.1\n",
       "packaging                   21.3\n",
       "parso                       0.8.3\n",
       "pexpect                     4.8.0\n",
       "pickleshare                 0.7.5\n",
       "pkg_resources               NA\n",
       "prompt_toolkit              3.0.24\n",
       "ptyprocess                  0.7.0\n",
       "pure_eval                   0.2.1\n",
       "pydev_ipython               NA\n",
       "pydevconsole                NA\n",
       "pydevd                      2.6.0\n",
       "pydevd_concurrency_analyser NA\n",
       "pydevd_file_utils           NA\n",
       "pydevd_plugins              NA\n",
       "pydevd_tracing              NA\n",
       "pygments                    2.11.2\n",
       "pyparsing                   3.0.7\n",
       "pytz                        2021.3\n",
       "regex                       2.5.110\n",
       "scipy                       1.7.3\n",
       "setuptools                  60.5.0\n",
       "six                         1.16.0\n",
       "stack_data                  0.1.4\n",
       "termcolor                   1.1.0\n",
       "tinycss                     0.4\n",
       "tornado                     6.1\n",
       "traitlets                   5.1.1\n",
       "urllib3                     1.26.8\n",
       "wcwidth                     0.2.5\n",
       "wordcloud                   1.8.1\n",
       "zmq                         22.3.0\n",
       "</pre>\n",
       "</details> <!-- seems like this ends pre, so might as well be explicit -->\n",
       "<pre>\n",
       "-----\n",
       "IPython             8.0.1\n",
       "jupyter_client      7.1.1\n",
       "jupyter_core        4.9.1\n",
       "jupyterlab          3.2.8\n",
       "notebook            6.4.7\n",
       "-----\n",
       "Python 3.10.1 (main, Dec 18 2021, 23:53:45) [GCC 11.1.0]\n",
       "Linux-5.15.12-1-MANJARO-x86_64-with-glibc2.33\n",
       "-----\n",
       "Session information updated at 2022-01-21 10:47\n",
       "</pre>\n",
       "</details>"
      ],
      "text/plain": [
       "<IPython.core.display.HTML object>"
      ]
     },
     "execution_count": 14,
     "metadata": {},
     "output_type": "execute_result"
    }
   ],
   "source": [
    "import session_info\n",
    "\n",
    "session_info.show()"
   ]
  },
  {
   "cell_type": "code",
   "execution_count": null,
   "id": "fc8ef70b-6f51-4c85-9d69-a7944a9ca1c0",
   "metadata": {},
   "outputs": [],
   "source": []
  }
 ],
 "metadata": {
  "kernelspec": {
   "display_name": "Python 3 (ipykernel)",
   "language": "python",
   "name": "python3"
  },
  "language_info": {
   "codemirror_mode": {
    "name": "ipython",
    "version": 3
   },
   "file_extension": ".py",
   "mimetype": "text/x-python",
   "name": "python",
   "nbconvert_exporter": "python",
   "pygments_lexer": "ipython3",
   "version": "3.10.1"
  }
 },
 "nbformat": 4,
 "nbformat_minor": 5
}
